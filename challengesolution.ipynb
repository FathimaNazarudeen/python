{
  "nbformat": 4,
  "nbformat_minor": 0,
  "metadata": {
    "colab": {
      "name": "challengesolution.ipynb",
      "provenance": [],
      "include_colab_link": true
    },
    "kernelspec": {
      "name": "python3",
      "display_name": "Python 3"
    },
    "language_info": {
      "name": "python"
    }
  },
  "cells": [
    {
      "cell_type": "markdown",
      "metadata": {
        "id": "view-in-github",
        "colab_type": "text"
      },
      "source": [
        "<a href=\"https://colab.research.google.com/github/FathimaNazarudeen/python/blob/main/challengesolution.ipynb\" target=\"_parent\"><img src=\"https://colab.research.google.com/assets/colab-badge.svg\" alt=\"Open In Colab\"/></a>"
      ]
    },
    {
      "cell_type": "code",
      "execution_count": 1,
      "metadata": {
        "id": "DiR4Cy6sxdjW"
      },
      "outputs": [],
      "source": [
        "from math import radians, cos, sin, asin, sqrt\n",
        "import requests\n",
        "r = requests.get('https://cdn.jsdelivr.net/gh/apilayer/restcountries@3dc0fb110cd97bce9ddf27b3e8e1f7fbe115dc3c/src/main/resources/countriesV2.json')"
      ]
    },
    {
      "cell_type": "code",
      "source": [
        "pop_limit =840974\n",
        "top_20 = []\n",
        "q=['AX','AS','AD','AI','AQ','AG','BQ','IO','UM','VI','CX','CC','DZ','AT','AU','AT','BE', 'BJ', 'BN','BW','BF','CM','CF','TD','CN','CD', 'CG','CY','DK','EC', 'SV','GQ', 'EE', 'FI', 'FR', 'GA', 'GP','DE', 'GR', 'GW', 'IN','CI', 'IE','IL','IS','IT', 'JP', 'LV', 'LT', 'ML', 'MT','MQ', 'ME','MA','NL','NE', 'NO', 'PS', 'PT', 'PR', 'XK','RE','SN', 'SG', 'SK','SI','ZA', 'ES','TL','TG', 'GB','US', 'EH', 'ZW','GF','GL','GD','GU']   \n",
        "for i in range(len(r.json())):\n",
        "    if (r.json()[i]['population'] >= pop_limit) and (r.json()[i]['alpha2Code']) not in q:\n",
        "        top_20.append(r.json()[i])\n",
        "        \n",
        "\n",
        "\t\n",
        "\n",
        "top_20 = sorted(top_20, key=lambda x: x['population'], reverse=False)"
      ],
      "metadata": {
        "id": "UquCBE-sx84N"
      },
      "execution_count": 2,
      "outputs": []
    },
    {
      "cell_type": "code",
      "source": [
        "\n",
        "top_20 = top_20[:20]\n",
        "for i in range(len(top_20)):\n",
        "    \n",
        "    print((top_20)[i]['name'])\n",
        "#for i in top_20:\n",
        "    #print (i['population'], i['latlng'], i['name'])"
      ],
      "metadata": {
        "colab": {
          "base_uri": "https://localhost:8080/"
        },
        "id": "p5iPK6f0x9wz",
        "outputId": "a4004197-c988-444a-ac7c-d9983e706b52"
      },
      "execution_count": 3,
      "outputs": [
        {
          "output_type": "stream",
          "name": "stdout",
          "text": [
            "Fiji\n",
            "Djibouti\n",
            "Swaziland\n",
            "Mauritius\n",
            "Trinidad and Tobago\n",
            "Bahrain\n",
            "Gambia\n",
            "Lesotho\n",
            "Macedonia (the former Yugoslav Republic of)\n",
            "Namibia\n",
            "Qatar\n",
            "Jamaica\n",
            "Albania\n",
            "Armenia\n",
            "Mongolia\n",
            "Uruguay\n",
            "Bosnia and Herzegovina\n",
            "Moldova (Republic of)\n",
            "Mauritania\n",
            "Georgia\n"
          ]
        }
      ]
    },
    {
      "cell_type": "code",
      "source": [
        "def distance(lat1, lat2, lon1, lon2):\n",
        "\t\n",
        "\tlon1 = radians(lon1)\n",
        "\tlon2 = radians(lon2)\n",
        "\tlat1 = radians(lat1)\n",
        "\tlat2 = radians(lat2)\n",
        "\t\n",
        "\t\n",
        "\t\n",
        "\t# Haversine formula\n",
        "\tdlon = lon2 - lon1\n",
        "\tdlat = lat2 - lat1\n",
        "\ta = sin(dlat / 2)**2 + cos(lat1) * cos(lat2) * sin(dlon / 2)**2\n",
        "\tc = 2 * asin(sqrt(a))\n",
        "\tr = 6371\n",
        "\n",
        "\treturn(c * r)"
      ],
      "metadata": {
        "id": "vr8eRhHVyBCT"
      },
      "execution_count": 4,
      "outputs": []
    },
    {
      "cell_type": "code",
      "source": [
        "\n",
        "distance_sum = 0.0\n",
        "while top_20:\n",
        "    country = top_20.pop(0)\n",
        "    for i in top_20:\n",
        "        \n",
        "        lat1=country['latlng'][0]\n",
        "        lat2=i['latlng'][0]\n",
        "        lon1=country['latlng'][1]\n",
        "        lon2=i['latlng'][1]\n",
        "       \n",
        "   \n",
        "            \n",
        "        distance_sum = round(distance_sum + distance(lat1, lat2, lon1, lon2),2)\n",
        "      "
      ],
      "metadata": {
        "id": "xkcJw-vByHlr"
      },
      "execution_count": 5,
      "outputs": []
    },
    {
      "cell_type": "code",
      "source": [
        "print (round(distance_sum, 2))"
      ],
      "metadata": {
        "colab": {
          "base_uri": "https://localhost:8080/"
        },
        "id": "DBotxSEkyMjG",
        "outputId": "945fbb97-7f5f-4638-f75f-a93195ff748e"
      },
      "execution_count": 6,
      "outputs": [
        {
          "output_type": "stream",
          "name": "stdout",
          "text": [
            "1418816.98\n"
          ]
        }
      ]
    }
  ]
}