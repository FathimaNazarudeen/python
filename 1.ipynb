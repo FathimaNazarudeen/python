{
  "nbformat": 4,
  "nbformat_minor": 0,
  "metadata": {
    "colab": {
      "provenance": [],
      "authorship_tag": "ABX9TyN/5XAT1MNvq36rKcVRUv4V",
      "include_colab_link": true
    },
    "kernelspec": {
      "name": "python3",
      "display_name": "Python 3"
    },
    "language_info": {
      "name": "python"
    }
  },
  "cells": [
    {
      "cell_type": "markdown",
      "metadata": {
        "id": "view-in-github",
        "colab_type": "text"
      },
      "source": [
        "<a href=\"https://colab.research.google.com/github/FathimaNazarudeen/python/blob/main/1.ipynb\" target=\"_parent\"><img src=\"https://colab.research.google.com/assets/colab-badge.svg\" alt=\"Open In Colab\"/></a>"
      ]
    },
    {
      "cell_type": "markdown",
      "source": [
        "Write a python script to read two numbers add them and print the result"
      ],
      "metadata": {
        "id": "h-D7Jn32aVdw"
      }
    },
    {
      "cell_type": "code",
      "source": [
        "a= int(input(\"Enter number \"))\n",
        "b=int(input(\"Enter number \"))\n",
        "output= a + b\n",
        "print(a, \"+\", b,\"=\",output)"
      ],
      "metadata": {
        "id": "4KwK9C_xaUos",
        "colab": {
          "base_uri": "https://localhost:8080/"
        },
        "outputId": "fa3a2a82-da1f-4b29-c0dc-e232653b5790"
      },
      "execution_count": 13,
      "outputs": [
        {
          "output_type": "stream",
          "name": "stdout",
          "text": [
            "Enter number 2\n",
            "Enter number 3\n",
            "2 + 3 = 5\n"
          ]
        }
      ]
    },
    {
      "cell_type": "markdown",
      "source": [
        "Assume the numbers to be 2.4 and 3.5. Print the out put as given below Sum of 2.4 and 3.5 is 5.9"
      ],
      "metadata": {
        "id": "CBgd54PvX2wX"
      }
    },
    {
      "cell_type": "code",
      "source": [
        "a=2.4\n",
        "b=3.5\n",
        "output= a + b\n",
        "print(a, \"+\", b,\"=\",output)"
      ],
      "metadata": {
        "colab": {
          "base_uri": "https://localhost:8080/"
        },
        "id": "qQCV464NX9-q",
        "outputId": "581885c7-086b-4e6a-faae-eb0d90199441"
      },
      "execution_count": 3,
      "outputs": [
        {
          "output_type": "stream",
          "name": "stdout",
          "text": [
            "2.4 + 3.5 = 5.9\n"
          ]
        }
      ]
    },
    {
      "cell_type": "markdown",
      "source": [
        "Write a python script to find maximum of two number"
      ],
      "metadata": {
        "id": "YD2e8ZTyYXWT"
      }
    },
    {
      "cell_type": "code",
      "source": [
        "a = int(input(\"Enter the first number: \"))\n",
        "b = int(input(\"Enter the second number: \"))\n",
        "if(a > b):\n",
        "  print(a, \"is greater\")\n",
        "elif(a < b):\n",
        "    print(b, \"is greater\")\n",
        "else:\n",
        "    print(\"Both are equal\")"
      ],
      "metadata": {
        "colab": {
          "base_uri": "https://localhost:8080/"
        },
        "id": "EhcJ5Y4dYb99",
        "outputId": "00dfb9ac-2674-40aa-b4c6-2f8b1a04fa3e"
      },
      "execution_count": 4,
      "outputs": [
        {
          "output_type": "stream",
          "name": "stdout",
          "text": [
            "Enter the first number: 5\n",
            "Enter the second number: 8\n",
            "8 is greater\n"
          ]
        }
      ]
    },
    {
      "cell_type": "markdown",
      "source": [
        "Write a python script to find maximum of three numbers"
      ],
      "metadata": {
        "id": "qvSqCNv2YttP"
      }
    },
    {
      "cell_type": "code",
      "source": [
        "def maximum(a, b, c):\n",
        "  \n",
        " if (a >= b) and (a >= c):\n",
        "        largest = a\n",
        "  \n",
        " elif (b >= a) and (b >= c):\n",
        "        largest = b\n",
        " else:\n",
        "        largest = c\n",
        "          \n",
        " return largest \n",
        "a = 22\n",
        "b = 15\n",
        "c = 2\n",
        "print(maximum(a, b, c))"
      ],
      "metadata": {
        "colab": {
          "base_uri": "https://localhost:8080/"
        },
        "id": "eMZyj5BfYwwC",
        "outputId": "a3c96f1d-eaf1-4c2f-9942-970661dbd68f"
      },
      "execution_count": 5,
      "outputs": [
        {
          "output_type": "stream",
          "name": "stdout",
          "text": [
            "22\n"
          ]
        }
      ]
    },
    {
      "cell_type": "markdown",
      "source": [
        "Write a python script to find maximum of ten numbers"
      ],
      "metadata": {
        "id": "pIa1-tXLZC9X"
      }
    },
    {
      "cell_type": "code",
      "source": [
        "a = [15, 22, 17, 8, 2, 63, 48, 53, 72]\n",
        "a.sort()\n",
        "print(\"Largest element is:\", a[-1])"
      ],
      "metadata": {
        "colab": {
          "base_uri": "https://localhost:8080/"
        },
        "id": "0h2v5b69ZQz_",
        "outputId": "ef4d9cf9-ff82-4dc3-820b-028ebe7bacb9"
      },
      "execution_count": 6,
      "outputs": [
        {
          "output_type": "stream",
          "name": "stdout",
          "text": [
            "Largest element is: 72\n"
          ]
        }
      ]
    },
    {
      "cell_type": "markdown",
      "source": [
        "Write a python Program for Sum of squares of first n natural numbers"
      ],
      "metadata": {
        "id": "8G89R4G6ZhpK"
      }
    },
    {
      "cell_type": "code",
      "source": [
        "def squaresum(n) :\n",
        " sum = 0\n",
        " for i in range(1, n+1) :\n",
        "        sum = sum + (i * i)\n",
        " return sum\n",
        "n = 7\n",
        "print(squaresum(n))"
      ],
      "metadata": {
        "colab": {
          "base_uri": "https://localhost:8080/"
        },
        "id": "nW7RUIbRZiVN",
        "outputId": "62544345-125b-4e20-fbbb-4245e2ede7ed"
      },
      "execution_count": 8,
      "outputs": [
        {
          "output_type": "stream",
          "name": "stdout",
          "text": [
            "140\n"
          ]
        }
      ]
    },
    {
      "cell_type": "markdown",
      "source": [
        "Write a python program to generate the following multiplication table 1 5 2 10 …….. 10 50"
      ],
      "metadata": {
        "id": "ePJW7bt5ZpVi"
      }
    },
    {
      "cell_type": "code",
      "source": [
        "a = int(input (\"Enter number \"))            \n",
        "print (\"The Multiplication Table of: \", a)    \n",
        "for count in range(1, 11):      \n",
        "   print (a, 'x', count, '=', a * count)"
      ],
      "metadata": {
        "colab": {
          "base_uri": "https://localhost:8080/"
        },
        "id": "ATYOT0uRZwg4",
        "outputId": "210fe2be-562f-4c28-d779-1257d6e36993"
      },
      "execution_count": 11,
      "outputs": [
        {
          "output_type": "stream",
          "name": "stdout",
          "text": [
            "Enter number 6\n",
            "The Multiplication Table of:  6\n",
            "6 x 1 = 6\n",
            "6 x 2 = 12\n",
            "6 x 3 = 18\n",
            "6 x 4 = 24\n",
            "6 x 5 = 30\n",
            "6 x 6 = 36\n",
            "6 x 7 = 42\n",
            "6 x 8 = 48\n",
            "6 x 9 = 54\n",
            "6 x 10 = 60\n"
          ]
        }
      ]
    }
  ]
}